{
 "cells": [
  {
   "cell_type": "markdown",
   "metadata": {},
   "source": [
    "# TP 1 : Variables et fonctions en Python\n",
    "# Correction\n",
    "\n",
    "Python est un langage de programmation objet et multiplateformes.\n",
    "Le langage Python est placé sous une licence libre.\n",
    "\n",
    "Le document que vous lisez est un [notebook Jupyter](http://jupyter.org/). Il est constitué de cellules comportant :\n",
    "- soit du texte en [**Markdown**](https://daringfireball.net/projects/markdown/) comme ici.\n",
    "- soit du code Python (voir plus bas)\n",
    "\n",
    "## 1- Variables et opérations en Python\n",
    "\n",
    "<span style='color:green'>**Exemple 1**</span> :\n",
    "\n",
    "Voici une \"cellule Code\". \n",
    "Sélectionner cette cellule, exécuter la (cliquer sur *Exécuter* ou utiliser le raccourci clavier *CTRL + Entrée*) et observer l'affichage."
   ]
  },
  {
   "cell_type": "code",
   "execution_count": 1,
   "metadata": {},
   "outputs": [
    {
     "name": "stdout",
     "output_type": "stream",
     "text": [
      "Observer les resultats suivants :\n",
      "7 11 3.5 49\n"
     ]
    }
   ],
   "source": [
    "a=7\n",
    "b=2\n",
    "print(\"Observer les resultats suivants :\")\n",
    "print(a,a + b * 2, a / b, a ** b)"
   ]
  },
  {
   "cell_type": "markdown",
   "metadata": {},
   "source": [
    "* Éditer ce programme, changer les nombres a et b et essayer de comprendre les opérations.\n",
    "* Le language Python respecte-t-il les priorités ?\n",
    "oui  \n",
    "* Que font les opérations : /, et ** ?  \n",
    "/ : division  \n",
    "** : puissance   \n",
    "* Quelle est la différence entre print(\"...\") et print(a) ?  \n",
    "print(\"...\") : affiche un message  \n",
    "print(a) : affiche la valeur de la variable a  "
   ]
  },
  {
   "cell_type": "markdown",
   "metadata": {},
   "source": [
    "<span style='color:green'>**Exemple 2**</span> : L'affectation de variables\n",
    "\n",
    "Voici un programme de calcul en langage Python."
   ]
  },
  {
   "cell_type": "code",
   "execution_count": 2,
   "metadata": {},
   "outputs": [
    {
     "name": "stdout",
     "output_type": "stream",
     "text": [
      "36\n"
     ]
    }
   ],
   "source": [
    "A=3\n",
    "B=2*A\n",
    "C=B**2\n",
    "print(C)"
   ]
  },
  {
   "cell_type": "markdown",
   "metadata": {},
   "source": [
    "* Que va afficher ce programme ? Vérifier en exécutant le programme.\n",
    "* Modifier la valeur de A pour obtenir 25 en affichage. Contrôler.  \n",
    "A=2.5  "
   ]
  },
  {
   "cell_type": "markdown",
   "metadata": {},
   "source": [
    "<span style='color:blue'>**Application :**</span> Voici un algorithme de calcul :\n",
    "* étant donnés deux nombres ;\n",
    "* prendre le cube du premier nombre ;\n",
    "* prendre le triple du deuxième nombre ;\n",
    "* ajouter les deux résultats précédents ;\n",
    "* afficher le dernier résultat.\n",
    "\n",
    "1) Que donne cet algorithme quand on choisit les nombres 3 et 7 ?  \n",
    "2) Traduire ci-dessous l’algorithme en Python, puis exécuter-le afin de vérifier votre résultat du 1)."
   ]
  },
  {
   "cell_type": "code",
   "execution_count": 4,
   "metadata": {},
   "outputs": [
    {
     "name": "stdout",
     "output_type": "stream",
     "text": [
      "48\n"
     ]
    }
   ],
   "source": [
    "a=3\n",
    "b=7\n",
    "c=a**3+3*7\n",
    "print(c)"
   ]
  },
  {
   "attachments": {
    "TP1_image%203.png": {
     "image/png": "[encoded data removed]"
    }
   },
   "cell_type": "markdown",
   "metadata": {},
   "source": [
    "## 2- Une fonction en Python\n",
    "\n",
    "Une fonction possède en général un nom, des entrées qui sont des **paramètres** (ou encore appelés **arguments**), et une sortie renvoyée généralement par l'instruction *return*.\n",
    "\n",
    "Voici la syntaxe d'une fonction en Python :\n",
    "\n",
    "![TP1_image%203.png](attachment:TP1_image%203.png) \n",
    "\n",
    "* Il faut veiller à placer les deux points en fin de première ligne,\n",
    "* ces deux points introduisent le \"corps\" de la fonction, qui doit être indenté : décalé 4 caractères.\n",
    "* La fin de l’indentation, ou l’instruction return qui introduit le résultat à renvoyer, signalent à Python la fin de l’exécution de la fonction.\n",
    "* le parenthésage dans l'instruction *print()* est obligatoire contrairement à l'instruction *return*. \n",
    "\n",
    " <span style='color:green'>**Exemple**</span> :\n",
    " Le programme suivant permet de calculer le montant de la location d'une voiture selon le nombre de kilomètres parcourus.\n",
    " \n",
    " \n",
    "Ici, le nom est <span style='color:blue'> Location </span> et l'argument est kilometres : l'utilisateur devra ensuite donner la valeur de l'argument kilometres afin que le logiciel calcule le montant de la location.\n",
    "\n",
    "Exécutez la *cellule Code* suivantes (sélectionner la \"cellule Code\", puis cliquer sur *Exécuter* ou utiliser le raccourci clavier *CTRL + Entrée*).\n"
   ]
  },
  {
   "cell_type": "code",
   "execution_count": 2,
   "metadata": {},
   "outputs": [],
   "source": [
    "def Location(kilometres):\n",
    "    montant=0.4*kilometres+50\n",
    "    return montant"
   ]
  },
  {
   "cell_type": "markdown",
   "metadata": {},
   "source": [
    "Il ne se passe rien ! C'est normal !  \n",
    "Pour que le programme affiche, par exemple, le montant de la location si l'on a parcouru 100 km , il faut appeler la fonction Location et donner la valeur 100 à l'argument kilometres comme ci-dessous.  \n",
    "Exécuter cette *cellule Code* et vérifier le résultat."
   ]
  },
  {
   "cell_type": "code",
   "execution_count": 3,
   "metadata": {},
   "outputs": [
    {
     "data": {
      "text/plain": [
       "90.0"
      ]
     },
     "execution_count": 3,
     "metadata": {},
     "output_type": "execute_result"
    }
   ],
   "source": [
    "Location(100)"
   ]
  },
  {
   "cell_type": "markdown",
   "metadata": {},
   "source": [
    "## 3- A vous de jouer !"
   ]
  },
  {
   "cell_type": "markdown",
   "metadata": {},
   "source": [
    "<span style='color:blue'>**Exercice**</span> :\n",
    "\n",
    "Un bureau de change propose aujourd’hui le taux de change : 1 $ = 0.87 €.\n",
    "\n",
    "1) a. Écrire une fonction \"conversion(dollar)\", prenant en argument le nombre de dollars à échanger et renvoyant le nombre d’euros obtenus en échange."
   ]
  },
  {
   "cell_type": "code",
   "execution_count": 5,
   "metadata": {},
   "outputs": [],
   "source": [
    "def conversion_euro(dollar):\n",
    "    euro=0.87*dollar\n",
    "    return euro"
   ]
  },
  {
   "cell_type": "markdown",
   "metadata": {},
   "source": [
    "b. Utiliser votre fonction pour déterminer le nombre d’euros obtenus en échange de 250 dollars."
   ]
  },
  {
   "cell_type": "code",
   "execution_count": 6,
   "metadata": {},
   "outputs": [
    {
     "data": {
      "text/plain": [
       "217.5"
      ]
     },
     "execution_count": 6,
     "metadata": {},
     "output_type": "execute_result"
    }
   ],
   "source": [
    "conversion_euro(250)"
   ]
  },
  {
   "cell_type": "markdown",
   "metadata": {},
   "source": [
    "2) a. Écrire une fonction en python permettant de convertir les euros en dollars."
   ]
  },
  {
   "cell_type": "code",
   "execution_count": 9,
   "metadata": {},
   "outputs": [],
   "source": [
    "def conversion_dollar(euro):\n",
    "    dollar=euro/0.87\n",
    "    return dollar"
   ]
  },
  {
   "cell_type": "markdown",
   "metadata": {},
   "source": [
    "b. Contrôler ce programme avec le résultat du 1)b."
   ]
  },
  {
   "cell_type": "code",
   "execution_count": 8,
   "metadata": {},
   "outputs": [
    {
     "data": {
      "text/plain": [
       "250.0"
      ]
     },
     "execution_count": 8,
     "metadata": {},
     "output_type": "execute_result"
    }
   ],
   "source": [
    "conversion_dollar(217.5)"
   ]
  }
 ],
 "metadata": {
  "kernelspec": {
   "display_name": "Python 3",
   "language": "python",
   "name": "python3"
  },
  "language_info": {
   "codemirror_mode": {
    "name": "ipython",
    "version": 3
   },
   "file_extension": ".py",
   "mimetype": "text/x-python",
   "name": "python",
   "nbconvert_exporter": "python",
   "pygments_lexer": "ipython3",
   "version": "3.7.3"
  }
 },
 "nbformat": 4,
 "nbformat_minor": 4
}
